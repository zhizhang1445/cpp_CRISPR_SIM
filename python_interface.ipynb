{
 "cells": [
  {
   "cell_type": "code",
   "execution_count": 2,
   "metadata": {},
   "outputs": [],
   "source": [
    "import numpy as np\n",
    "import matplotlib.pyplot as plt\n",
    "import matplotlib.animation as animation\n",
    "import os"
   ]
  },
  {
   "cell_type": "code",
   "execution_count": 3,
   "metadata": {},
   "outputs": [],
   "source": [
    "# check = np.load(\"test_out.npy\")\n",
    "getinput = lambda name, index : \"single_\" + name + \"_\" + str(index) + \".npy\"\n",
    "getoutput = lambda name : \"all_\" + name + \".npy\""
   ]
  },
  {
   "cell_type": "code",
   "execution_count": 4,
   "metadata": {},
   "outputs": [
    {
     "name": "stdout",
     "output_type": "stream",
     "text": [
      "/media/homes/thisiszhi/Cpp_Version/test_folder\n"
     ]
    }
   ],
   "source": [
    "cd test_folder"
   ]
  },
  {
   "cell_type": "code",
   "execution_count": 5,
   "metadata": {},
   "outputs": [
    {
     "name": "stdout",
     "output_type": "stream",
     "text": [
      "0\n",
      "1\n",
      "2\n",
      "3\n",
      "4\n",
      "5\n",
      "6\n",
      "7\n",
      "8\n",
      "9\n",
      "10\n",
      "11\n",
      "12\n",
      "13\n",
      "14\n",
      "15\n",
      "16\n",
      "17\n",
      "18\n",
      "19\n",
      "20\n",
      "21\n",
      "22\n",
      "23\n",
      "24\n",
      "25\n",
      "26\n",
      "27\n",
      "28\n",
      "29\n",
      "30\n",
      "31\n",
      "32\n",
      "33\n",
      "34\n",
      "35\n",
      "36\n",
      "37\n",
      "38\n",
      "39\n",
      "40\n",
      "41\n",
      "42\n",
      "43\n",
      "44\n",
      "45\n",
      "46\n",
      "47\n",
      "48\n",
      "49\n",
      "50\n",
      "51\n",
      "52\n",
      "53\n",
      "54\n",
      "55\n",
      "56\n",
      "57\n",
      "58\n",
      "59\n",
      "60\n",
      "61\n",
      "62\n",
      "63\n",
      "64\n",
      "65\n",
      "66\n",
      "67\n",
      "68\n",
      "69\n",
      "70\n",
      "71\n",
      "72\n",
      "73\n",
      "74\n",
      "75\n",
      "76\n",
      "77\n",
      "78\n",
      "79\n",
      "80\n",
      "81\n",
      "82\n",
      "83\n",
      "84\n",
      "85\n",
      "86\n",
      "87\n",
      "88\n",
      "89\n",
      "90\n",
      "91\n",
      "92\n",
      "93\n",
      "94\n",
      "95\n",
      "96\n",
      "97\n",
      "98\n",
      "99\n",
      "100\n"
     ]
    }
   ],
   "source": [
    "stack_f = []\n",
    "stack_n = []\n",
    "stack_nh = []\n",
    "\n",
    "getinput = lambda name, index : \"single_\" + name + \"_\" + str(index) + \".npy\"\n",
    "getoutput = lambda name : \"all_\" + name + \".npy\"\n",
    "\n",
    "start_time=0\n",
    "end_time=10000\n",
    "\n",
    "for i in range(start_time, end_time):\n",
    "    print(i)\n",
    "    if not (os.path.isfile(getinput(\"f\", i))):\n",
    "        break\n",
    "\n",
    "    stack_f.append(np.load(getinput(\"f\", i)))\n",
    "    stack_n.append(np.load(getinput(\"n\", i)))\n",
    "    stack_nh.append(np.load(getinput(\"nh\", i)))\n",
    "\n",
    "stack_f = np.squeeze(np.array(stack_f))\n",
    "stack_n = np.squeeze(np.array(stack_n))\n",
    "stack_nh = np.squeeze(np.array(stack_nh))"
   ]
  },
  {
   "cell_type": "code",
   "execution_count": 7,
   "metadata": {},
   "outputs": [
    {
     "data": {
      "text/plain": [
       "(100, 1000, 1000)"
      ]
     },
     "execution_count": 7,
     "metadata": {},
     "output_type": "execute_result"
    }
   ],
   "source": [
    "stack_f.shape"
   ]
  },
  {
   "cell_type": "code",
   "execution_count": 8,
   "metadata": {},
   "outputs": [],
   "source": [
    "def makeGif(frame_stack, name):\n",
    "    fig = plt.figure()\n",
    "\n",
    "    animation_frames = []\n",
    "    for frame in frame_stack:\n",
    "        frame = np.squeeze(frame)\n",
    "        animation_frames.append([plt.imshow(frame, animated=True)])\n",
    "\n",
    "    ani = animation.ArtistAnimation(\n",
    "        fig, animation_frames, interval=50, blit=True, repeat_delay=1000)\n",
    "\n",
    "    # FFwriter = animation.PillowWriter(fps=60)\n",
    "\n",
    "    ani.save(name + \".gif\")\n",
    "    plt.close()\n",
    "    return 1"
   ]
  },
  {
   "cell_type": "code",
   "execution_count": 13,
   "metadata": {},
   "outputs": [
    {
     "data": {
      "image/png": "[encoded data removed]",
      "text/plain": [
       "<Figure size 432x288 with 1 Axes>"
      ]
     },
     "metadata": {
      "needs_background": "light"
     },
     "output_type": "display_data"
    }
   ],
   "source": [
    "for frame in stack_f:\n",
    "    plt.imshow(frame)\n",
    "    pl"
   ]
  },
  {
   "cell_type": "code",
   "execution_count": null,
   "metadata": {},
   "outputs": [],
   "source": []
  }
 ],
 "metadata": {
  "kernelspec": {
   "display_name": "Python 3.6.9 64-bit",
   "language": "python",
   "name": "python3"
  },
  "language_info": {
   "codemirror_mode": {
    "name": "ipython",
    "version": 3
   },
   "file_extension": ".py",
   "mimetype": "text/x-python",
   "name": "python",
   "nbconvert_exporter": "python",
   "pygments_lexer": "ipython3",
   "version": "3.6.9"
  },
  "orig_nbformat": 4,
  "vscode": {
   "interpreter": {
    "hash": "31f2aee4e71d21fbe5cf8b01ff0e069b9275f58929596ceb00d14d90e3e16cd6"
   }
  }
 },
 "nbformat": 4,
 "nbformat_minor": 2
}
