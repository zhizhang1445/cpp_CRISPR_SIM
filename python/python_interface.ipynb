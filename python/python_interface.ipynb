{
 "cells": [
  {
   "cell_type": "code",
   "execution_count": 86,
   "metadata": {},
   "outputs": [],
   "source": [
    "import numpy as np\n",
    "import numpy.ma as ma\n",
    "import pandas as pd\n",
    "import os\n",
    "import sys\n",
    "import matplotlib.pyplot as plt\n",
    "import matplotlib.animation as animation\n",
    "import json "
   ]
  },
  {
   "cell_type": "code",
   "execution_count": 87,
   "metadata": {},
   "outputs": [],
   "source": [
    "getinput = lambda name, index : \"single_\" + name + \"_\" + str(index) + \".npy\"\n",
    "getoutput = lambda name : \"all_\" + name + \".npy\""
   ]
  },
  {
   "cell_type": "code",
   "execution_count": 101,
   "metadata": {},
   "outputs": [
    {
     "name": "stdout",
     "output_type": "stream",
     "text": [
      "/media/homes/thisiszhi/Cpp_Version/Simulation_N0200_R010_mu1e-4_Np10_r10_x50_t100\n"
     ]
    }
   ],
   "source": [
    "cd /media/homes/thisiszhi/Cpp_Version/Simulation_N0200_R010_mu1e-4_Np10_r10_x50_t100\n"
   ]
  },
  {
   "cell_type": "code",
   "execution_count": 102,
   "metadata": {},
   "outputs": [
    {
     "name": "stdout",
     "output_type": "stream",
     "text": [
      "/media/homes/thisiszhi/Cpp_Version/Simulation_N0200_R010_mu1e-4_Np10_r10_x50_t100/simulation10\n"
     ]
    }
   ],
   "source": [
    "cd simulation10/"
   ]
  },
  {
   "cell_type": "code",
   "execution_count": 103,
   "metadata": {},
   "outputs": [],
   "source": [
    "def makeGif(frame_stack, name):\n",
    "    fig = plt.figure()\n",
    "\n",
    "    animation_frames = []\n",
    "    for frame in frame_stack:\n",
    "        frame = np.squeeze(frame)\n",
    "        animation_frames.append([plt.imshow(frame, animated=True)])\n",
    "\n",
    "    ani = animation.ArtistAnimation(\n",
    "        fig, animation_frames, interval=50, blit=False, repeat_delay=1000)\n",
    "\n",
    "    # FFwriter = animation.PillowWriter(fps=60)\n",
    "\n",
    "    ani.save(name + \".gif\")\n",
    "    plt.close()\n",
    "    return 0\n",
    "\n",
    "def write2json(name, params, sim_params):\n",
    "    with open(name + '_params.json', 'w') as fp:\n",
    "        json.dump(params, fp)\n",
    "\n",
    "    with open(name + '_sim_params.json', 'w') as fp:\n",
    "        json.dump(sim_params, fp)"
   ]
  },
  {
   "cell_type": "code",
   "execution_count": 104,
   "metadata": {},
   "outputs": [],
   "source": [
    "def readParameters(fileNameString, typeParams = True):\n",
    "\n",
    "    if fileNameString in {\"params.txt\", \"Params.txt\"} :\n",
    "        typeParams = True\n",
    "    elif fileNameString in {\"simparams.txt\", \"sim_params.txt\", \"Simparams.txt\", \"Sim_Params.txt\"} :\n",
    "        typeParams = False\n",
    "    else:\n",
    "        return ValueError\n",
    "\n",
    "\n",
    "    if typeParams:\n",
    "        params = {}\n",
    "        file = open(\"params.txt\", \"r\")\n",
    "        params[\"Nh\"] = int(file.readline().strip())\n",
    "        params[\"N0\"] = int(file.readline().strip())\n",
    "        params[\"R0\"] = int(file.readline().strip())\n",
    "        params[\"M\"] = int(file.readline().strip())\n",
    "        params[\"mu\"] = float(file.readline().strip())\n",
    "        params[\"gamma_shape\"] = float(file.readline().strip())\n",
    "        params[\"Np\"] = int(file.readline().strip())\n",
    "        params[\"dc\"] = int(file.readline().strip())\n",
    "        params[\"h\"] = int(file.readline().strip())\n",
    "        params[\"r\"] = float(file.readline().strip())\n",
    "        params[\"rho\"] = float(file.readline().strip())\n",
    "        return params\n",
    "    \n",
    "    if not typeParams:\n",
    "        sim_params = { #parameters relevant for the simulation (including Inital Valuess)\n",
    "        \"dx\":                         1,\n",
    "        \"t0\":                         0, \n",
    "        \"dt\":                         1,\n",
    "        }\n",
    "        file = open(\"simparams.txt\", \"r\")\n",
    "        sim_params[\"xdomain\"] = int(file.readline().strip())\n",
    "        sim_params[\"tf\"] = int(file.readline().strip())\n",
    "        loc_x = float(file.readline().strip())\n",
    "        loc_y = float(file.readline().strip())\n",
    "        sim_params[\"initial_mean\"] = [loc_x, loc_y]\n",
    "        sim_params[\"inital_var\"] = float(file.readline().strip())\n",
    "        sim_params[\"n_step_prior\"] = int(file.readline().strip())\n",
    "        sim_params[\"ratio_exp\"] = int(file.readline().strip())\n",
    "        return sim_params"
   ]
  },
  {
   "cell_type": "code",
   "execution_count": 105,
   "metadata": {},
   "outputs": [],
   "source": [
    "stack_f = []\n",
    "stack_n = []\n",
    "stack_nh = []"
   ]
  },
  {
   "cell_type": "code",
   "execution_count": 106,
   "metadata": {},
   "outputs": [],
   "source": [
    "start_time=0\n",
    "end_time=10000\n",
    "\n",
    "for i in range(start_time, end_time):\n",
    "\n",
    "    if not (os.path.isfile(getinput(\"f\", i))):\n",
    "        break\n",
    "\n",
    "    stack_f.append(np.load(getinput(\"f\", i)))\n",
    "    stack_n.append(np.load(getinput(\"n\", i)))\n",
    "    stack_nh.append(np.load(getinput(\"nh\", i)))\n",
    "\n",
    "stack_f = np.squeeze(np.array(stack_f))\n",
    "stack_n = np.squeeze(np.array(stack_n))\n",
    "stack_nh = np.squeeze(np.array(stack_nh))"
   ]
  },
  {
   "cell_type": "code",
   "execution_count": 116,
   "metadata": {},
   "outputs": [],
   "source": [
    "# Check if updates happens\n",
    "\n",
    "for frame_n, frame_nh in zip(stack_n, stack_nh):\n",
    "    if not np.all(frame_n == frame_nh): {\n",
    "        print(\"Every Frame is identical\")\n",
    "    }\n",
    "    "
   ]
  },
  {
   "cell_type": "code",
   "execution_count": 100,
   "metadata": {},
   "outputs": [
    {
     "data": {
      "text/plain": [
       "(0,)"
      ]
     },
     "execution_count": 100,
     "metadata": {},
     "output_type": "execute_result"
    }
   ],
   "source": [
    "stack_n.shape"
   ]
  },
  {
   "cell_type": "code",
   "execution_count": 108,
   "metadata": {},
   "outputs": [
    {
     "data": {
      "text/plain": [
       "True"
      ]
     },
     "execution_count": 108,
     "metadata": {},
     "output_type": "execute_result"
    }
   ],
   "source": [
    "np.all(stack_n[-1] == stack_n[-3])"
   ]
  },
  {
   "cell_type": "markdown",
   "metadata": {},
   "source": []
  },
  {
   "cell_type": "code",
   "execution_count": 109,
   "metadata": {},
   "outputs": [
    {
     "data": {
      "text/plain": [
       "<matplotlib.image.AxesImage at 0x7fd39ea21518>"
      ]
     },
     "execution_count": 109,
     "metadata": {},
     "output_type": "execute_result"
    },
    {
     "data": {
      "image/png": "[encoded data removed]",
      "text/plain": [
       "<Figure size 432x288 with 1 Axes>"
      ]
     },
     "metadata": {
      "needs_background": "light"
     },
     "output_type": "display_data"
    }
   ],
   "source": [
    "plt.imshow(frame_nh)"
   ]
  },
  {
   "cell_type": "code",
   "execution_count": 110,
   "metadata": {},
   "outputs": [
    {
     "data": {
      "text/plain": [
       "<matplotlib.image.AxesImage at 0x7fd39eb5e0b8>"
      ]
     },
     "execution_count": 110,
     "metadata": {},
     "output_type": "execute_result"
    },
    {
     "data": {
      "image/png": "[encoded data removed]",
      "text/plain": [
       "<Figure size 432x288 with 1 Axes>"
      ]
     },
     "metadata": {
      "needs_background": "light"
     },
     "output_type": "display_data"
    }
   ],
   "source": [
    "plt.imshow(frame_n)"
   ]
  },
  {
   "cell_type": "code",
   "execution_count": 98,
   "metadata": {},
   "outputs": [],
   "source": []
  },
  {
   "cell_type": "code",
   "execution_count": 113,
   "metadata": {},
   "outputs": [
    {
     "data": {
      "image/png": "[encoded data removed]",
      "text/plain": [
       "<Figure size 432x288 with 1 Axes>"
      ]
     },
     "metadata": {
      "needs_background": "light"
     },
     "output_type": "display_data"
    }
   ],
   "source": [
    "fig = plt.figure()\n",
    "\n",
    "animation_frames = []\n",
    "for frame in stack_n:\n",
    "    frame = np.squeeze(frame)\n",
    "    animation_frames.append([plt.imshow(frame)])\n",
    "\n",
    "ani = animation.ArtistAnimation(\n",
    "    fig, animation_frames, interval=1, blit=False, repeat_delay=1000)\n",
    "\n",
    "writer = animation.ImageMagickWriter(fps=60)\n",
    "# writer = animation.PillowWriter(fps=60)\n",
    "\n",
    "ani.save(\"all_n.gif\", writer = writer)"
   ]
  },
  {
   "cell_type": "code",
   "execution_count": 53,
   "metadata": {},
   "outputs": [
    {
     "data": {
      "text/plain": [
       "<matplotlib.image.AxesImage at 0x7f9f95f47a58>"
      ]
     },
     "execution_count": 53,
     "metadata": {},
     "output_type": "execute_result"
    },
    {
     "data": {
      "image/png": "[encoded data removed]",
      "text/plain": [
       "<Figure size 432x288 with 1 Axes>"
      ]
     },
     "metadata": {
      "needs_background": "light"
     },
     "output_type": "display_data"
    }
   ],
   "source": [
    "plt.imshow(stack_f[-1])"
   ]
  },
  {
   "cell_type": "code",
   "execution_count": 10,
   "metadata": {},
   "outputs": [
    {
     "data": {
      "text/plain": [
       "(100, 1000, 1000)"
      ]
     },
     "execution_count": 10,
     "metadata": {},
     "output_type": "execute_result"
    }
   ],
   "source": [
    "stack_f.shape"
   ]
  },
  {
   "cell_type": "code",
   "execution_count": 13,
   "metadata": {},
   "outputs": [
    {
     "data": {
      "image/png": "[encoded data removed]",
      "text/plain": [
       "<Figure size 432x288 with 1 Axes>"
      ]
     },
     "metadata": {
      "needs_background": "light"
     },
     "output_type": "display_data"
    }
   ],
   "source": [
    "plt.figure()\n",
    "plt.imshow(stack_f[6, :, :])\n",
    "plt.show()"
   ]
  },
  {
   "cell_type": "code",
   "execution_count": 19,
   "metadata": {},
   "outputs": [
    {
     "data": {
      "text/plain": [
       "False"
      ]
     },
     "execution_count": 19,
     "metadata": {},
     "output_type": "execute_result"
    }
   ],
   "source": [
    "np.all(stack_f[90] == stack_f[80])"
   ]
  },
  {
   "cell_type": "code",
   "execution_count": 11,
   "metadata": {},
   "outputs": [
    {
     "data": {
      "image/png": "[encoded data removed]",
      "text/plain": [
       "<Figure size 432x288 with 1 Axes>"
      ]
     },
     "metadata": {
      "needs_background": "light"
     },
     "output_type": "display_data"
    }
   ],
   "source": [
    "plt.figure()\n",
    "plt.imshow(stack_n[3, :, :])\n",
    "plt.show()"
   ]
  },
  {
   "cell_type": "code",
   "execution_count": 5,
   "metadata": {},
   "outputs": [
    {
     "data": {
      "text/plain": [
       "<matplotlib.image.AxesImage at 0x7f3c5e49e4e0>"
      ]
     },
     "execution_count": 5,
     "metadata": {},
     "output_type": "execute_result"
    },
    {
     "data": {
      "image/png": "[encoded data removed]",
      "text/plain": [
       "<Figure size 432x288 with 1 Axes>"
      ]
     },
     "metadata": {
      "needs_background": "light"
     },
     "output_type": "display_data"
    }
   ],
   "source": [
    "im = np.load(\"single_nh_3.npy\")\n",
    "plt.imshow(im)"
   ]
  },
  {
   "cell_type": "code",
   "execution_count": null,
   "metadata": {},
   "outputs": [],
   "source": []
  }
 ],
 "metadata": {
  "kernelspec": {
   "display_name": "Python 3.6.9 64-bit",
   "language": "python",
   "name": "python3"
  },
  "language_info": {
   "codemirror_mode": {
    "name": "ipython",
    "version": 3
   },
   "file_extension": ".py",
   "mimetype": "text/x-python",
   "name": "python",
   "nbconvert_exporter": "python",
   "pygments_lexer": "ipython3",
   "version": "3.6.9"
  },
  "orig_nbformat": 4,
  "vscode": {
   "interpreter": {
    "hash": "31f2aee4e71d21fbe5cf8b01ff0e069b9275f58929596ceb00d14d90e3e16cd6"
   }
  }
 },
 "nbformat": 4,
 "nbformat_minor": 2
}
